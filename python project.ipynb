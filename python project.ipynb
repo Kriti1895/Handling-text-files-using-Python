{
 "cells": [
  {
   "cell_type": "markdown",
   "id": "52610715",
   "metadata": {},
   "source": [
    "# Task1: Find out the number of unique dialogue speaker in the sample conversation"
   ]
  },
  {
   "cell_type": "code",
   "execution_count": 1,
   "id": "a123f2c1",
   "metadata": {},
   "outputs": [
    {
     "name": "stdout",
     "output_type": "stream",
     "text": [
      "WILL\n",
      "WAYMAR ROYCE\n",
      "GARED\n",
      "ROYCE\n",
      "JON\n",
      "SEPTA MORDANE\n",
      "SANSA\n",
      "NED\n",
      "ROBB\n",
      "CASSEL\n",
      "CATELYN\n",
      "BRAN\n",
      "THEON\n",
      "CERSEI\n",
      "JAIME\n",
      "ROBERT\n",
      "ARYA\n"
     ]
    }
   ],
   "source": [
    "#Uploading the script\n",
    "script=open('conv.txt', 'r')\n",
    "\n",
    "#creating a list to store the unique speakers name\n",
    "unique_list = []\n",
    "\n",
    "#running a loop for reading the lines\n",
    "for line in script.readlines():\n",
    "    without_new_line=line.strip()\n",
    "    #using split method to split the name which is separated by : \n",
    "    name=without_new_line.split(\":\" ,1)\n",
    "    \n",
    "    #checking the condition that no names should be repeated, using this \n",
    "    #condition to get the Unique Speaker Names.\n",
    "    if name[0] not in unique_list: \n",
    "        if name[0]=='':\n",
    "            continue\n",
    "        else: \n",
    "        #appending list to store the names\n",
    "            unique_list.append(name[0])\n",
    "        \n",
    "#Running For Loop to print the names of Unique Speaker       \n",
    "for element in unique_list:\n",
    "    print(element)\n",
    "    "
   ]
  },
  {
   "cell_type": "code",
   "execution_count": 2,
   "id": "9bc0a690",
   "metadata": {},
   "outputs": [
    {
     "data": {
      "text/plain": [
       "17"
      ]
     },
     "execution_count": 2,
     "metadata": {},
     "output_type": "execute_result"
    }
   ],
   "source": [
    "#Finding the length of unique dialogue speaker\n",
    "len(unique_list)"
   ]
  },
  {
   "cell_type": "markdown",
   "id": "1437d209",
   "metadata": {},
   "source": [
    "# Task 2: Create a new text file by the name of the dialogue speaker and store the unique words spoken by that character in the respective text file. Make sure there is only one word every line.\n"
   ]
  },
  {
   "cell_type": "markdown",
   "id": "3a1e7085",
   "metadata": {},
   "source": [
    " 1. Will and his unique words"
   ]
  },
  {
   "cell_type": "code",
   "execution_count": 3,
   "id": "a634cbe1",
   "metadata": {},
   "outputs": [],
   "source": [
    "#Uploading the script\n",
    "script=open('conv.txt', 'r')\n",
    "unique_word = []\n",
    "\n",
    "#Here we are reading every line of the file\n",
    "for line in script.readlines():\n",
    "    \n",
    "        #now checking the line actually belongs to the speaker\n",
    "        if \"WILL\" in line:\n",
    "            \n",
    "            \n",
    "            # opening a text file with append function which creates the files \n",
    "            W = open(\"WILL.txt\", 'a')\n",
    "            words = set(line.split())\n",
    "            words = [word.strip('.,!;()[]') for word in words]\n",
    "            words = [word.replace(\"'s\", '') for word in words]\n",
    "           \n",
    "        \n",
    "        #finding unique\n",
    "            for word in words:\n",
    "                if word not in unique_word:\n",
    "                    unique_word.append(word)\n",
    "                    W.write(word)\n",
    "                    W.write('\\n')\n",
    "            W.close()"
   ]
  },
  {
   "cell_type": "code",
   "execution_count": 4,
   "id": "1948814a",
   "metadata": {},
   "outputs": [
    {
     "data": {
      "text/plain": [
       "['WILL:', 'were', 'They', 'here']"
      ]
     },
     "execution_count": 4,
     "metadata": {},
     "output_type": "execute_result"
    }
   ],
   "source": [
    "words"
   ]
  },
  {
   "cell_type": "markdown",
   "id": "171a5c67",
   "metadata": {},
   "source": [
    " 2. WaymarRoyce and his unique words"
   ]
  },
  {
   "cell_type": "code",
   "execution_count": 5,
   "id": "239f1095",
   "metadata": {},
   "outputs": [],
   "source": [
    "#Uploading the script\n",
    "script=open('conv.txt', 'r')\n",
    "unique_word = []\n",
    "\n",
    "#reading every line of the file\n",
    "for line in script.readlines():\n",
    "    \n",
    "        #now checking the line actually belongs to the speaker\n",
    "        if \"WAYMAR ROYCE\" in line:\n",
    "            \n",
    "            \n",
    "            #opening a text file with append function which creates the files \n",
    "            W = open(\"WAYMAR ROYCE.txt\", 'a')\n",
    "            words= set(line.split())\n",
    "            words= [word.strip('.,!;()[]') for word in words]\n",
    "            words= [word.replace(\"'s\", '') for word in words]\n",
    "           \n",
    "        \n",
    "        #finding unique\n",
    "            for word in words:\n",
    "                if word not in unique_word:\n",
    "                    unique_word.append(word)\n",
    "                    W.write(word)\n",
    "                    W.write('\\n')\n",
    "            W.close()"
   ]
  },
  {
   "cell_type": "code",
   "execution_count": 6,
   "id": "1bb5d7b1",
   "metadata": {},
   "outputs": [
    {
     "data": {
      "text/plain": [
       "['WAYMAR', 'get?', 'close', 'did', 'you', 'ROYCE:', 'How']"
      ]
     },
     "execution_count": 6,
     "metadata": {},
     "output_type": "execute_result"
    }
   ],
   "source": [
    "words"
   ]
  },
  {
   "cell_type": "markdown",
   "id": "1e8f9452",
   "metadata": {},
   "source": [
    "3. Gared and his unique words."
   ]
  },
  {
   "cell_type": "code",
   "execution_count": 7,
   "id": "7287b1bb",
   "metadata": {},
   "outputs": [],
   "source": [
    "#Uploading the script\n",
    "script=open('conv.txt', 'r')\n",
    "unique_word = []\n",
    "\n",
    "#reading every line of the file\n",
    "for line in script.readlines():\n",
    "    \n",
    "        #now checking the line actually belongs to the speaker\n",
    "        if \"GARED\" in line:\n",
    "            \n",
    "            \n",
    "            #opening a text file with append function which creates the files \n",
    "            G = open(\"GARED.txt\", 'a')\n",
    "            words = set(line.split())\n",
    "            words = [word.strip('.,!;()[]') for word in words]\n",
    "            words = [word.replace(\"'s\", '') for word in words]\n",
    "           \n",
    "        \n",
    "        #finding unique\n",
    "            for word in words:\n",
    "                if word not in unique_word:\n",
    "                    unique_word.append(word)\n",
    "                    G.write(word)\n",
    "                    G.write('\\n')\n",
    "            G.close()"
   ]
  },
  {
   "cell_type": "code",
   "execution_count": 8,
   "id": "a363f0c3",
   "metadata": {},
   "outputs": [
    {
     "data": {
      "text/plain": [
       "['where', 'they', 'went', 'GARED:', 'See']"
      ]
     },
     "execution_count": 8,
     "metadata": {},
     "output_type": "execute_result"
    }
   ],
   "source": [
    "words"
   ]
  },
  {
   "cell_type": "markdown",
   "id": "047b593e",
   "metadata": {},
   "source": [
    "4. Royce and his unique words."
   ]
  },
  {
   "cell_type": "code",
   "execution_count": 9,
   "id": "94d9d7a2",
   "metadata": {},
   "outputs": [],
   "source": [
    "#Uploading the script\n",
    "script=open('conv.txt', 'r')\n",
    "unique_word = []\n",
    "\n",
    "#reading every line of the file\n",
    "for line in script.readlines():\n",
    "    \n",
    "        #now checking the line actually belongs to the speaker\n",
    "        if \"ROYCE\" in line:\n",
    "            \n",
    "            \n",
    "            #opening a text file with append function which creates the files \n",
    "            R = open(\"ROYCE.txt\", 'a')\n",
    "            words = set(line.split())\n",
    "            words = [word.strip('.,!;()[]') for word in words]\n",
    "            words = [word.replace(\"'s\", '') for word in words]\n",
    "           \n",
    "        \n",
    "        #finding unique\n",
    "            for word in words:\n",
    "                if word not in unique_word:\n",
    "                    unique_word.append(word)\n",
    "                    R.write(word)\n",
    "                    R.write('\\n')\n",
    "            R.close()"
   ]
  },
  {
   "cell_type": "code",
   "execution_count": 10,
   "id": "b1083779",
   "metadata": {},
   "outputs": [
    {
     "data": {
      "text/plain": [
       "['is', 'ROYCE:', 'What', 'it?']"
      ]
     },
     "execution_count": 10,
     "metadata": {},
     "output_type": "execute_result"
    }
   ],
   "source": [
    "words"
   ]
  },
  {
   "cell_type": "markdown",
   "id": "615d9904",
   "metadata": {},
   "source": [
    "5. Jon and his unique words."
   ]
  },
  {
   "cell_type": "code",
   "execution_count": 11,
   "id": "86d099b3",
   "metadata": {},
   "outputs": [],
   "source": [
    "#Uploading the script\n",
    "script=open('conv.txt', 'r')\n",
    "unique_word = []\n",
    "\n",
    "#reading every line of the file\n",
    "for line in script.readlines():\n",
    "    \n",
    "        #now checking the line actually belongs to the speaker\n",
    "        if \"JON\" in line:\n",
    "            \n",
    "            \n",
    "            #opening a text file with append function which creates the files \n",
    "            J = open(\"JON.txt\", 'a')\n",
    "            words = set(line.split())\n",
    "            words = [word.strip('.,!;()[]') for word in words]\n",
    "            words = [word.replace(\"'s\", '') for word in words]\n",
    "           \n",
    "        \n",
    "        #finding unique\n",
    "            for word in words:\n",
    "                if word not in unique_word:\n",
    "                    unique_word.append(word)\n",
    "                    J.write(word)\n",
    "                    J.write('\\n')\n",
    "            J.close()"
   ]
  },
  {
   "cell_type": "code",
   "execution_count": 12,
   "id": "fef5e704",
   "metadata": {},
   "outputs": [
    {
     "data": {
      "text/plain": [
       "['Stark', 'Get', 'not', 'a', 'Iâ€™m', 'on', 'JON:']"
      ]
     },
     "execution_count": 12,
     "metadata": {},
     "output_type": "execute_result"
    }
   ],
   "source": [
    "words"
   ]
  },
  {
   "cell_type": "markdown",
   "id": "c2ec55ac",
   "metadata": {},
   "source": [
    "6. Septa Mordane and her unique words."
   ]
  },
  {
   "cell_type": "code",
   "execution_count": 13,
   "id": "ecb4ca32",
   "metadata": {},
   "outputs": [],
   "source": [
    "#Uploading the script\n",
    "script=open('conv.txt', 'r')\n",
    "unique_word = []\n",
    "\n",
    "#reading every line of the file\n",
    "for line in script.readlines():\n",
    "    \n",
    "        #now checking the line actually belongs to the speaker\n",
    "        if \"SEPTA MORDANE\" in line:\n",
    "            \n",
    "            \n",
    "            #opening a text file with append function which creates the files \n",
    "            S = open(\"SEPTA_MORDANE.txt\", 'a')\n",
    "            words = set(line.split())\n",
    "            words = [word.strip('.,!;()[]') for word in words]\n",
    "            words = [word.replace(\"'s\", '') for word in words]\n",
    "           \n",
    "        \n",
    "        #finding unique\n",
    "            for word in words:\n",
    "                if word not in unique_word:\n",
    "                    unique_word.append(word)\n",
    "                    S.write(word)\n",
    "                    S.write('\\n')\n",
    "            S.close()"
   ]
  },
  {
   "cell_type": "code",
   "execution_count": 14,
   "id": "e50d9add",
   "metadata": {},
   "outputs": [
    {
     "data": {
      "text/plain": [
       "['the',\n",
       " 'corners',\n",
       " 'I',\n",
       " 'MORDANE:',\n",
       " 'in',\n",
       " 'this',\n",
       " 'to',\n",
       " 'youâ€™ve',\n",
       " 'love',\n",
       " 'SEPTA',\n",
       " 'that',\n",
       " 'get',\n",
       " 'managed',\n",
       " 'detail']"
      ]
     },
     "execution_count": 14,
     "metadata": {},
     "output_type": "execute_result"
    }
   ],
   "source": [
    "words"
   ]
  },
  {
   "cell_type": "markdown",
   "id": "83c707af",
   "metadata": {},
   "source": [
    "7. Sansa and her unique words"
   ]
  },
  {
   "cell_type": "code",
   "execution_count": 15,
   "id": "2cb6ac4d",
   "metadata": {},
   "outputs": [],
   "source": [
    "#Uploading the script\n",
    "script=open('conv.txt', 'r')\n",
    "unique_word = []\n",
    "\n",
    "#reading every line of the file\n",
    "for line in script.readlines():\n",
    "    \n",
    "        #now checking the line actually belongs to the speaker\n",
    "        if \"SANSA\" in line:\n",
    "            \n",
    "            \n",
    "            #opening a text file with append function which creates the files \n",
    "            S = open(\"SANSA.txt\", 'a')\n",
    "            words = set(line.split())\n",
    "            words = [word.strip('.,!;()[]') for word in words]\n",
    "            words = [word.replace(\"'s\", '') for word in words]\n",
    "           \n",
    "        \n",
    "        #finding unique\n",
    "            for word in words:\n",
    "                if word not in unique_word:\n",
    "                    unique_word.append(word)\n",
    "                    S.write(word)\n",
    "                    S.write('\\n')\n",
    "            S.close()"
   ]
  },
  {
   "cell_type": "code",
   "execution_count": 16,
   "id": "93a3a347",
   "metadata": {},
   "outputs": [
    {
     "data": {
      "text/plain": [
       "['please', 'Would', 'you', 'shut', 'up', 'SANSA:']"
      ]
     },
     "execution_count": 16,
     "metadata": {},
     "output_type": "execute_result"
    }
   ],
   "source": [
    "words"
   ]
  },
  {
   "cell_type": "markdown",
   "id": "492e0511",
   "metadata": {},
   "source": [
    "8. Ned and his unique words."
   ]
  },
  {
   "cell_type": "code",
   "execution_count": 17,
   "id": "d99348bc",
   "metadata": {},
   "outputs": [],
   "source": [
    "#Uploading the script\n",
    "script=open('conv.txt', 'r')\n",
    "unique_word = []\n",
    "\n",
    "#reading every line of the file\n",
    "for line in script.readlines():\n",
    "    \n",
    "        #now checking the line actually belongs to the speaker\n",
    "        if \"NED\" in line:\n",
    "            \n",
    "            \n",
    "            #opening a text file with append function which creates the files \n",
    "            N = open(\"NED.txt\", 'a')\n",
    "            words = set(line.split())\n",
    "            words = [word.strip('.,!;()[]') for word in words]\n",
    "            words = [word.replace(\"'s\", '') for word in words]\n",
    "           \n",
    "        \n",
    "        #finding unique\n",
    "            for word in words:\n",
    "                if word not in unique_word:\n",
    "                    unique_word.append(word)\n",
    "                    N.write(word)\n",
    "                    N.write('\\n')\n",
    "            N.close()"
   ]
  },
  {
   "cell_type": "code",
   "execution_count": 18,
   "id": "ccb9dd4a",
   "metadata": {},
   "outputs": [
    {
     "data": {
      "text/plain": [
       "['NED:', 'Aye']"
      ]
     },
     "execution_count": 18,
     "metadata": {},
     "output_type": "execute_result"
    }
   ],
   "source": [
    "words"
   ]
  },
  {
   "cell_type": "markdown",
   "id": "5c310636",
   "metadata": {},
   "source": [
    "9. Robb and his unique words"
   ]
  },
  {
   "cell_type": "code",
   "execution_count": 19,
   "id": "d1178793",
   "metadata": {},
   "outputs": [],
   "source": [
    "#Uploading the script\n",
    "script=open('conv.txt', 'r')\n",
    "unique_word = []\n",
    "\n",
    "#reading every line of the file\n",
    "for line in script.readlines():\n",
    "    \n",
    "        #now checking the line actually belongs to the speaker\n",
    "        if \"ROBB\" in line:\n",
    "            \n",
    "            \n",
    "            #opening a text file with append function which creates the files \n",
    "            R = open(\"ROBB.txt\", 'a')\n",
    "            words = set(line.split())\n",
    "            words = [word.strip('.,!;()[]') for word in words]\n",
    "            words = [word.replace(\"'s\", '') for word in words]\n",
    "           \n",
    "        \n",
    "        #finding unique\n",
    "            for word in words:\n",
    "                if word not in unique_word:\n",
    "                    unique_word.append(word)\n",
    "                    R.write(word)\n",
    "                    R.write('\\n')\n",
    "            R.close()"
   ]
  },
  {
   "cell_type": "code",
   "execution_count": 20,
   "id": "f4c8925f",
   "metadata": {},
   "outputs": [
    {
     "data": {
      "text/plain": [
       "['own',\n",
       " 'good',\n",
       " 'he',\n",
       " 'never',\n",
       " 'Heâ€™s',\n",
       " 'met',\n",
       " 'girl',\n",
       " 'than',\n",
       " 'Tommy',\n",
       " 'ROBB:',\n",
       " 'on',\n",
       " 'Go',\n",
       " 'his',\n",
       " 'him',\n",
       " 'a',\n",
       " 'better',\n",
       " 'hair',\n",
       " 'shave',\n",
       " 'likes']"
      ]
     },
     "execution_count": 20,
     "metadata": {},
     "output_type": "execute_result"
    }
   ],
   "source": [
    "words"
   ]
  },
  {
   "cell_type": "markdown",
   "id": "85a8dd54",
   "metadata": {},
   "source": [
    "10. Cassel and his unique words."
   ]
  },
  {
   "cell_type": "code",
   "execution_count": 21,
   "id": "d2e1b14e",
   "metadata": {},
   "outputs": [],
   "source": [
    "#Uploading the script\n",
    "script=open('conv.txt', 'r')\n",
    "unique_word = []\n",
    "\n",
    "#reading every line of the file\n",
    "for line in script.readlines():\n",
    "    \n",
    "        #now checking the line actually belongs to the speaker\n",
    "        if \"CASSEL\" in line:\n",
    "            \n",
    "            \n",
    "            #opening a text file with append function which creates the files \n",
    "            C = open(\"CASSEL.txt\", 'a')\n",
    "            words = set(line.split())\n",
    "            words = [word.strip('.,!;()[]') for word in words]\n",
    "            words = [word.replace(\"'s\", '') for word in words]\n",
    "           \n",
    "        \n",
    "        #finding unique\n",
    "            for word in words:\n",
    "                if word not in unique_word:\n",
    "                    unique_word.append(word)\n",
    "                    C.write(word)\n",
    "                    C.write('\\n')\n",
    "            C.close()"
   ]
  },
  {
   "cell_type": "code",
   "execution_count": 22,
   "id": "7fa7d913",
   "metadata": {},
   "outputs": [
    {
     "data": {
      "text/plain": [
       "['They', 'down', 'donâ€™t', 'here', 'belong', 'CASSEL:']"
      ]
     },
     "execution_count": 22,
     "metadata": {},
     "output_type": "execute_result"
    }
   ],
   "source": [
    "words"
   ]
  },
  {
   "cell_type": "markdown",
   "id": "3c2dc87c",
   "metadata": {},
   "source": [
    "11. Catelyn and her unique words."
   ]
  },
  {
   "cell_type": "code",
   "execution_count": 23,
   "id": "d2afb427",
   "metadata": {},
   "outputs": [],
   "source": [
    "#Uploading the script\n",
    "script=open('conv.txt', 'r')\n",
    "unique_word = []\n",
    "\n",
    "#reading every line of the file\n",
    "for line in script.readlines():\n",
    "    \n",
    "        #now checking the line actually belongs to the speaker\n",
    "        if \"CATELYN\" in line:\n",
    "            \n",
    "            \n",
    "            #opening a text file with append function which creates the files \n",
    "            C = open(\"CATELYN.txt\", 'a')\n",
    "            words = set(line.split())\n",
    "            words = [word.strip('.,!;()[]') for word in words]\n",
    "            words = [word.replace(\"'s\", '') for word in words]\n",
    "           \n",
    "        \n",
    "        #finding unique\n",
    "            for word in words:\n",
    "                if word not in unique_word:\n",
    "                    unique_word.append(word)\n",
    "                    C.write(word)\n",
    "                    C.write('\\n')\n",
    "            C.close()"
   ]
  },
  {
   "cell_type": "code",
   "execution_count": 24,
   "id": "582102a5",
   "metadata": {},
   "outputs": [
    {
     "data": {
      "text/plain": [
       "['My', 'CATELYN:', 'queen']"
      ]
     },
     "execution_count": 24,
     "metadata": {},
     "output_type": "execute_result"
    }
   ],
   "source": [
    "words"
   ]
  },
  {
   "cell_type": "markdown",
   "id": "4b66665e",
   "metadata": {},
   "source": [
    "12. Bran and his unique words."
   ]
  },
  {
   "cell_type": "code",
   "execution_count": 25,
   "id": "f00d5fd4",
   "metadata": {},
   "outputs": [],
   "source": [
    "#Uploading the script\n",
    "script=open('conv.txt', 'r')\n",
    "unique_word = []\n",
    "\n",
    "#reading every line of the file\n",
    "for line in script.readlines():\n",
    "    \n",
    "        #now checking the line actually belongs to the speaker\n",
    "        if \"BRAN\" in line:\n",
    "            \n",
    "            \n",
    "            #opening a text file with append function which creates the files \n",
    "            B = open(\"BRAN.txt\", 'a')\n",
    "            words = set(line.split())\n",
    "            words = [word.strip('.,!;()[]') for word in words]\n",
    "            words = [word.replace(\"'s\", '') for word in words]\n",
    "           \n",
    "        \n",
    "        #finding unique\n",
    "            for word in words:\n",
    "                if word not in unique_word:\n",
    "                    unique_word.append(word)\n",
    "                    B.write(word)\n",
    "                    B.write('\\n')\n",
    "            B.close()"
   ]
  },
  {
   "cell_type": "code",
   "execution_count": 26,
   "id": "f0dd8d3b",
   "metadata": {},
   "outputs": [
    {
     "data": {
      "text/plain": [
       "['now', 'road', 'But', 'Down', 'BRAN:', 'right', 'our', 'heâ€™s', 'coming']"
      ]
     },
     "execution_count": 26,
     "metadata": {},
     "output_type": "execute_result"
    }
   ],
   "source": [
    "words"
   ]
  },
  {
   "cell_type": "markdown",
   "id": "19ea2845",
   "metadata": {},
   "source": [
    "13. Theon and his unique words"
   ]
  },
  {
   "cell_type": "code",
   "execution_count": 27,
   "id": "f8cc95a5",
   "metadata": {},
   "outputs": [],
   "source": [
    "#Uploading the script\n",
    "script=open('conv.txt', 'r')\n",
    "unique_word = []\n",
    "\n",
    "#reading every line of the file\n",
    "for line in script.readlines():\n",
    "    \n",
    "        #now checking the line actually belongs to the speaker\n",
    "        if \"THEON\" in line:\n",
    "            \n",
    "            \n",
    "            #opening a text file with append function which creates the files \n",
    "            T = open(\"THEON.txt\", 'a')\n",
    "            words = set(line.split())\n",
    "            words = [word.strip('.,!;()[]') for word in words]\n",
    "            words = [word.replace(\"'s\", '') for word in words]\n",
    "           \n",
    "        \n",
    "        #finding unique\n",
    "            for word in words:\n",
    "                if word not in unique_word:\n",
    "                    unique_word.append(word)\n",
    "                    T.write(word)\n",
    "                    T.write('\\n')\n",
    "            T.close()"
   ]
  },
  {
   "cell_type": "code",
   "execution_count": 28,
   "id": "24807e15",
   "metadata": {},
   "outputs": [
    {
     "data": {
      "text/plain": [
       "['girls',\n",
       " 'all',\n",
       " 'Think',\n",
       " 'to',\n",
       " 'with',\n",
       " 'those',\n",
       " 'southern',\n",
       " 'he',\n",
       " 'stab',\n",
       " 'prick',\n",
       " 'THEON:',\n",
       " 'right',\n",
       " 'his',\n",
       " 'gets',\n",
       " 'royal',\n",
       " 'of']"
      ]
     },
     "execution_count": 28,
     "metadata": {},
     "output_type": "execute_result"
    }
   ],
   "source": [
    "words"
   ]
  },
  {
   "cell_type": "markdown",
   "id": "70651dd2",
   "metadata": {},
   "source": [
    "14. Cersei and her unique words."
   ]
  },
  {
   "cell_type": "code",
   "execution_count": 29,
   "id": "30462b2b",
   "metadata": {},
   "outputs": [],
   "source": [
    "#Uploading the script\n",
    "script=open('conv.txt', 'r')\n",
    "unique_word = []\n",
    "\n",
    "#reading every line of the file\n",
    "for line in script.readlines():\n",
    "    \n",
    "        #now checking the line actually belongs to the speaker\n",
    "        if \"CERSEI\" in line:\n",
    "            \n",
    "            \n",
    "            #opening a text file with append function which creates the files \n",
    "            C = open(\"CERSEI.txt\", 'a')\n",
    "            words = set(line.split())\n",
    "            words = [word.strip('.,!;()[]') for word in words]\n",
    "            words = [word.replace(\"'s\", '') for word in words]\n",
    "           \n",
    "        \n",
    "        #finding unique\n",
    "            for word in words:\n",
    "                if word not in unique_word:\n",
    "                    unique_word.append(word)\n",
    "                    C.write(word)\n",
    "                    C.write('\\n')\n",
    "            C.close()"
   ]
  },
  {
   "cell_type": "code",
   "execution_count": 30,
   "id": "4249733d",
   "metadata": {},
   "outputs": [
    {
     "data": {
      "text/plain": [
       "['brother?',\n",
       " 'the',\n",
       " 'little',\n",
       " 'find',\n",
       " 'CERSEI:',\n",
       " 'our',\n",
       " 'Where',\n",
       " 'Go',\n",
       " 'beast',\n",
       " 'is']"
      ]
     },
     "execution_count": 30,
     "metadata": {},
     "output_type": "execute_result"
    }
   ],
   "source": [
    "words"
   ]
  },
  {
   "cell_type": "markdown",
   "id": "3dda397c",
   "metadata": {},
   "source": [
    "15. Jaime and his unique words"
   ]
  },
  {
   "cell_type": "code",
   "execution_count": 31,
   "id": "3d8ab115",
   "metadata": {},
   "outputs": [],
   "source": [
    "#Uploading the script\n",
    "script=open('conv.txt', 'r')\n",
    "unique_word = []\n",
    "\n",
    "#reading every line of the file\n",
    "for line in script.readlines():\n",
    "    \n",
    "        #now checking the line actually belongs to the speaker\n",
    "        if \"JAIME\" in line:\n",
    "            \n",
    "            \n",
    "            #opening a text file with append function which creates the files \n",
    "            J = open(\"JAIME.txt\", 'a')\n",
    "            words = set(line.split())\n",
    "            words = [word.strip('.,!;()[]') for word in words]\n",
    "            words = [word.replace(\"'s\", '') for word in words]\n",
    "           \n",
    "        \n",
    "        #finding unique\n",
    "            for word in words:\n",
    "                if word not in unique_word:\n",
    "                    unique_word.append(word)\n",
    "                    J.write(word)\n",
    "                    J.write('\\n')\n",
    "            J.close()"
   ]
  },
  {
   "cell_type": "code",
   "execution_count": 32,
   "id": "1638b19d",
   "metadata": {},
   "outputs": [
    {
     "data": {
      "text/plain": [
       "['lives',\n",
       " 'I',\n",
       " 'Thatâ€™s',\n",
       " 'days',\n",
       " 'too',\n",
       " 'honor',\n",
       " 'short',\n",
       " 'an',\n",
       " 'JAIME:',\n",
       " 'without',\n",
       " 'Their',\n",
       " 'their',\n",
       " 'long',\n",
       " 'do',\n",
       " 'can',\n",
       " 'are']"
      ]
     },
     "execution_count": 32,
     "metadata": {},
     "output_type": "execute_result"
    }
   ],
   "source": [
    "words"
   ]
  },
  {
   "cell_type": "markdown",
   "id": "54bb8f2e",
   "metadata": {},
   "source": [
    "16. Robert and his unique words."
   ]
  },
  {
   "cell_type": "code",
   "execution_count": 33,
   "id": "79cb99fc",
   "metadata": {},
   "outputs": [],
   "source": [
    "#Uploading the script\n",
    "script=open('conv.txt', 'r')\n",
    "unique_word = []\n",
    "\n",
    "#reading every line of the file\n",
    "for line in script.readlines():\n",
    "    \n",
    "        #now checking the line actually belongs to the speaker.\n",
    "        if \"ROBERT\" in line:\n",
    "            \n",
    "            \n",
    "            #opening a text file with append function which creates the files \n",
    "            R = open(\"ROBERT.txt\", 'a')\n",
    "            words = set(line.split())\n",
    "            words = [word.strip('.,!;()[]') for word in words]\n",
    "            words = [word.replace(\"'s\", '') for word in words]\n",
    "           \n",
    "        \n",
    "        #finding unique\n",
    "            for word in words:\n",
    "                if word not in unique_word:\n",
    "                    unique_word.append(word)\n",
    "                    R.write(word)\n",
    "                    R.write('\\n')\n",
    "            R.close()"
   ]
  },
  {
   "cell_type": "code",
   "execution_count": 34,
   "id": "94ef67d0",
   "metadata": {},
   "outputs": [
    {
     "data": {
      "text/plain": [
       "['teach',\n",
       " 'had',\n",
       " 'never',\n",
       " 'but',\n",
       " 'was',\n",
       " 'skulls',\n",
       " 'â€¦',\n",
       " '16?',\n",
       " 'and',\n",
       " 'to',\n",
       " 'you',\n",
       " 'He',\n",
       " 'me',\n",
       " 'what',\n",
       " 'ROBERT:',\n",
       " 'crack',\n",
       " 'You',\n",
       " 'All',\n",
       " 'at',\n",
       " 'girls',\n",
       " 'wanted',\n",
       " 'showed',\n",
       " 'I',\n",
       " 'remember',\n",
       " 'what',\n",
       " 'do',\n",
       " 'fuck',\n",
       " 'much']"
      ]
     },
     "execution_count": 34,
     "metadata": {},
     "output_type": "execute_result"
    }
   ],
   "source": [
    "words"
   ]
  },
  {
   "cell_type": "markdown",
   "id": "7c9a4842",
   "metadata": {},
   "source": [
    "17. Arya and her unique words."
   ]
  },
  {
   "cell_type": "code",
   "execution_count": 35,
   "id": "f02d3f4f",
   "metadata": {},
   "outputs": [],
   "source": [
    "#Uploading the script\n",
    "script=open('conv.txt', 'r')\n",
    "unique_word = []\n",
    "\n",
    "#reading every line of the file\n",
    "for line in script.readlines():\n",
    "    \n",
    "        #now checking the line actually belongs to the speaker\n",
    "        if \"ARYA\" in line:\n",
    "            \n",
    "            \n",
    "            #opening a text file with append function which creates the files \n",
    "            A = open(\"ARYA.txt\", 'a')\n",
    "            words = set(line.split())\n",
    "            words = [word.strip('.,!;()[]') for word in words]\n",
    "            words = [word.replace(\"'s\", '') for word in words]\n",
    "           \n",
    "        \n",
    "        #finding unique\n",
    "            for word in words:\n",
    "                if word not in unique_word:\n",
    "                    unique_word.append(word)\n",
    "                    A.write(word)\n",
    "                    A.write('\\n')\n",
    "            A.close()"
   ]
  },
  {
   "cell_type": "code",
   "execution_count": 36,
   "id": "dc4b8ae5",
   "metadata": {},
   "outputs": [
    {
     "data": {
      "text/plain": [
       "['Whereâ€™s', 'the', 'ARYA:', 'Imp?']"
      ]
     },
     "execution_count": 36,
     "metadata": {},
     "output_type": "execute_result"
    }
   ],
   "source": [
    "words"
   ]
  },
  {
   "cell_type": "code",
   "execution_count": null,
   "id": "a065c875",
   "metadata": {},
   "outputs": [],
   "source": []
  }
 ],
 "metadata": {
  "kernelspec": {
   "display_name": "Python 3 (ipykernel)",
   "language": "python",
   "name": "python3"
  },
  "language_info": {
   "codemirror_mode": {
    "name": "ipython",
    "version": 3
   },
   "file_extension": ".py",
   "mimetype": "text/x-python",
   "name": "python",
   "nbconvert_exporter": "python",
   "pygments_lexer": "ipython3",
   "version": "3.9.7"
  }
 },
 "nbformat": 4,
 "nbformat_minor": 5
}
